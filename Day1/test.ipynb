{
 "cells": [
  {
   "cell_type": "code",
   "execution_count": 28,
   "metadata": {},
   "outputs": [],
   "source": [
    "from sklearn.datasets import load_digits\n",
    "import pandas as pd\n",
    "import numpy as np\n",
    "\n",
    "digits = load_digits()\n",
    "\n",
    "X = pd.DataFrame(digits.data)\n",
    "y = pd.DataFrame(digits.target)"
   ]
  },
  {
   "cell_type": "code",
   "execution_count": 29,
   "metadata": {},
   "outputs": [],
   "source": [
    "X[\"Label\"] = y"
   ]
  },
  {
   "cell_type": "code",
   "execution_count": 57,
   "metadata": {},
   "outputs": [
    {
     "data": {
      "text/plain": [
       "array([0, 1, 2, 3, 4, 5, 6, 7, 8, 9])"
      ]
     },
     "execution_count": 57,
     "metadata": {},
     "output_type": "execute_result"
    }
   ],
   "source": [
    "X['Label'].unique()"
   ]
  },
  {
   "cell_type": "code",
   "execution_count": 52,
   "metadata": {},
   "outputs": [],
   "source": [
    "data = np.array(X)\n",
    "m, n = data.shape[0], data.shape[1]\n",
    "np.random.shuffle(data)\n",
    "\n",
    "data_test = data[0:541].T\n",
    "X_test = data_test[0:64]\n",
    "y_test = data_test[64]\n",
    "\n",
    "data_train = data[541:m].T\n",
    "X_train = data_train[1:n]\n",
    "y_train = data_train[64]"
   ]
  },
  {
   "cell_type": "code",
   "execution_count": 58,
   "metadata": {},
   "outputs": [],
   "source": [
    "def init_pram():\n",
    "    a, b = -0.5, 0.5\n",
    "    W1 = a + (b-a)*np.random.rand(10, 64)\n",
    "    b1 = a + (b-a)*np.random.rand(10, 1)\n",
    "    W2 = a + (b-a)*np.random.rand(10, 64)\n",
    "    b2 = a + (b-a)*np.random.rand(10, 1)"
   ]
  },
  {
   "cell_type": "code",
   "execution_count": 59,
   "metadata": {},
   "outputs": [],
   "source": [
    "def ReLU(x):\n",
    "    return np.maximum(0, x)\n",
    "\n",
    "def softMax(x):\n",
    "    exp_x = np.exp(x - np.max(x))\n",
    "    return exp_x/np.sum(exp_x, axis = 0)"
   ]
  },
  {
   "cell_type": "code",
   "execution_count": 62,
   "metadata": {},
   "outputs": [],
   "source": [
    "def fwd_propogation(X_train, W1, b1, W2, b2):\n",
    "    # First Layer\n",
    "    z1 = np.matmul(W1, X_train) + b1\n",
    "    A1 = ReLU(z1)\n",
    "\n",
    "    # Second Layer\n",
    "    Z2 = np.matmul(W2, A1) + b2\n",
    "    A2 = softMax(Z2)\n",
    "    return A2"
   ]
  },
  {
   "cell_type": "code",
   "execution_count": null,
   "metadata": {},
   "outputs": [],
   "source": []
  }
 ],
 "metadata": {
  "kernelspec": {
   "display_name": "global_env",
   "language": "python",
   "name": "python3"
  },
  "language_info": {
   "codemirror_mode": {
    "name": "ipython",
    "version": 3
   },
   "file_extension": ".py",
   "mimetype": "text/x-python",
   "name": "python",
   "nbconvert_exporter": "python",
   "pygments_lexer": "ipython3",
   "version": "3.11.5"
  }
 },
 "nbformat": 4,
 "nbformat_minor": 2
}
